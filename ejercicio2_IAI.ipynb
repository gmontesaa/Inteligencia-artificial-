{
 "cells": [
  {
   "cell_type": "code",
   "execution_count": null,
   "id": "d2b27306",
   "metadata": {},
   "outputs": [],
   "source": [
    "import heapq "
   ]
  },
  {
   "cell_type": "code",
   "execution_count": 2,
   "id": "52e66ec9",
   "metadata": {},
   "outputs": [],
   "source": [
    "class Node:\n",
    "    def __init__(self, position, parent=None, action=None, path_cost=0):\n",
    "        self.position = position\n",
    "        self.parent = parent\n",
    "        self.action = action\n",
    "        self.path_cost = path_cost\n",
    "\n",
    "    def __lt__(self, other):\n",
    "        return self.path_cost < other.path_cost\n",
    "\n",
    "\n",
    "class Problem:\n",
    "    def __init__(self, maze, start, goals, terrain_cost):\n",
    "        self.maze = maze\n",
    "        self.start = start\n",
    "        self.goals = goals\n",
    "        self.terrain_cost = terrain_cost\n",
    "        self.actions = {\n",
    "            (-1, 0): \"Up\",\n",
    "            (1, 0): \"Down\",\n",
    "            (0, -1): \"Left\",\n",
    "            (0, 1): \"Right\"\n",
    "        }"
   ]
  },
  {
   "cell_type": "code",
   "execution_count": 3,
   "id": "7588818a",
   "metadata": {},
   "outputs": [],
   "source": [
    "def find_exit(maze, start, goals, terrain_cost):\n",
    "    problem = Problem(maze, start, goals, terrain_cost)\n",
    "\n",
    "    def manhattan_to_nearest_goal(pos):\n",
    "        return min(abs(pos[0] - g[0]) + abs(pos[1] - g[1]) for g in problem.goals)\n",
    "\n",
    "    def get_neighbors(pos):\n",
    "        neighbors = []\n",
    "        for move, action_name in problem.actions.items():\n",
    "            neighbor = (pos[0] + move[0], pos[1] + move[1])\n",
    "            if maze[neighbor[0]][neighbor[1]] != \"#\":  # no es pared\n",
    "                neighbors.append((neighbor, action_name))\n",
    "        return neighbors\n",
    "\n",
    "    start_node = Node(start, path_cost=0)\n",
    "    frontier = [(manhattan_to_nearest_goal(start), start_node)]\n",
    "    heapq.heapify(frontier)\n",
    "    reached = {start: start_node}\n",
    "\n",
    "    while frontier:\n",
    "        _, node = heapq.heappop(frontier)\n",
    "        if node.position in problem.goals:\n",
    "            return reconstruct_path(node)\n",
    "\n",
    "        for neighbor, action in get_neighbors(node.position):\n",
    "            terrain = maze[neighbor[0]][neighbor[1]]\n",
    "            move_cost = problem.terrain_cost.get(terrain, 1)  # costo por tipo de terreno\n",
    "            new_cost = node.path_cost + move_cost\n",
    "\n",
    "            if neighbor not in reached or new_cost < reached[neighbor].path_cost:\n",
    "                reached[neighbor] = Node(neighbor, parent=node, action=action, path_cost=new_cost)\n",
    "                priority = new_cost + manhattan_to_nearest_goal(neighbor)\n",
    "                heapq.heappush(frontier, (priority, reached[neighbor]))\n",
    "\n",
    "    return None  # no hay salida"
   ]
  },
  {
   "cell_type": "code",
   "execution_count": 4,
   "id": "11eab31c",
   "metadata": {},
   "outputs": [],
   "source": [
    "def reconstruct_path(node):\n",
    "    path = []\n",
    "    actions = []\n",
    "    while node:\n",
    "        path.append(node.position)\n",
    "        actions.append(node.action)\n",
    "        node = node.parent\n",
    "    path.reverse()\n",
    "    actions.reverse()\n",
    "    return path, actions\n",
    "\n",
    "\n",
    "def print_maze_with_path(maze, path):\n",
    "    maze_copy = [row[:] for row in maze]  # copia para no modificar el original\n",
    "    for r, c in path[1:-1]:\n",
    "        maze_copy[r][c] = \".\"\n",
    "    for row in maze_copy:\n",
    "        print(\"\".join(row))"
   ]
  },
  {
   "cell_type": "code",
   "execution_count": 5,
   "id": "84fc541a",
   "metadata": {},
   "outputs": [
    {
     "name": "stdout",
     "output_type": "stream",
     "text": [
      "Path to exit: [(1, 1), (1, 2), (1, 3), (2, 3), (3, 3), (3, 4), (3, 5), (4, 5), (4, 6), (4, 7), (4, 8)]\n",
      "Actions: [None, 'Right', 'Right', 'Down', 'Down', 'Right', 'Right', 'Down', 'Right', 'Right', 'Right']\n",
      "\n",
      "Laberinto con el camino marcado:\n",
      "##########\n",
      "#S..#  E~#\n",
      "# #.#~#  #\n",
      "# #...## #\n",
      "#  ~#...E#\n",
      "##########\n"
     ]
    }
   ],
   "source": [
    "maze = [\n",
    "    [\"#\", \"#\", \"#\", \"#\", \"#\", \"#\", \"#\", \"#\", \"#\", \"#\"],\n",
    "    [\"#\", \"S\", \" \", \" \", \"#\", \" \", \" \", \"E\", \"~\", \"#\"],\n",
    "    [\"#\", \" \", \"#\", \" \", \"#\", \"~\", \"#\", \" \", \" \", \"#\"],\n",
    "    [\"#\", \" \", \"#\", \" \", \" \", \" \", \"#\", \"#\", \" \", \"#\"],\n",
    "    [\"#\", \" \", \" \", \"~\", \"#\", \" \", \" \", \" \", \"E\", \"#\"],\n",
    "    [\"#\", \"#\", \"#\", \"#\", \"#\", \"#\", \"#\", \"#\", \"#\", \"#\"]\n",
    "]\n",
    "\n",
    "start = (1, 1)\n",
    "goals = [(1, 7), (4, 8)]  # múltiples salidas\n",
    "terrain_cost = {\n",
    "    \" \": 1,  # camino normal\n",
    "    \"~\": 3,  # agua: más costoso\n",
    "    \"S\": 1,\n",
    "    \"E\": 1\n",
    "}\n",
    "\n",
    "path, actions = find_exit(maze, start, goals, terrain_cost)\n",
    "\n",
    "print(\"Path to exit:\", path)\n",
    "print(\"Actions:\", actions)\n",
    "print(\"\\nLaberinto con el camino marcado:\")\n",
    "print_maze_with_path(maze, path)"
   ]
  }
 ],
 "metadata": {
  "kernelspec": {
   "display_name": "Python 3",
   "language": "python",
   "name": "python3"
  },
  "language_info": {
   "codemirror_mode": {
    "name": "ipython",
    "version": 3
   },
   "file_extension": ".py",
   "mimetype": "text/x-python",
   "name": "python",
   "nbconvert_exporter": "python",
   "pygments_lexer": "ipython3",
   "version": "3.13.1"
  }
 },
 "nbformat": 4,
 "nbformat_minor": 5
}
