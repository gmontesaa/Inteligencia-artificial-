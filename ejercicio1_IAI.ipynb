{
 "cells": [
  {
   "cell_type": "code",
   "id": "e07d16d3",
   "metadata": {
    "jupyter": {
     "is_executing": true
    }
   },
   "source": [
    "import heapq"
   ],
   "outputs": [],
   "execution_count": null
  },
  {
   "cell_type": "code",
   "execution_count": 2,
   "id": "89d1f309",
   "metadata": {},
   "outputs": [],
   "source": [
    "class Node:\n",
    "    def __init__(self, state, parent=None, action=None, path_cost=0):\n",
    "        self.state = state\n",
    "        self.parent = parent\n",
    "        self.action = action\n",
    "        self.path_cost = path_cost  # g(n)\n",
    "\n",
    "    def __lt__(self, other):\n",
    "        return self.path_cost < other.path_cost"
   ]
  },
  {
   "cell_type": "code",
   "execution_count": 3,
   "id": "ed7f38b7",
   "metadata": {},
   "outputs": [],
   "source": [
    "def expand(problem, node):\n",
    "    children = []\n",
    "    for action in problem.actions(node.state):\n",
    "        result_state = problem.result(node.state, action)\n",
    "        cost = problem.action_cost(node.state, action, result_state)\n",
    "        child_node = Node(\n",
    "            state=result_state,\n",
    "            parent=node,\n",
    "            action=action,\n",
    "            path_cost=node.path_cost + cost\n",
    "        )\n",
    "        children.append(child_node)\n",
    "    return children"
   ]
  },
  {
   "cell_type": "code",
   "execution_count": 4,
   "id": "209996c2",
   "metadata": {},
   "outputs": [],
   "source": [
    "class Problem:\n",
    "    def __init__(self, initial, goal, actions, result, action_cost, is_goal):\n",
    "        self.initial = initial\n",
    "        self.goal = goal\n",
    "        self.actions = actions\n",
    "        self.result = result\n",
    "        self.action_cost = action_cost\n",
    "        self.is_goal = is_goal"
   ]
  },
  {
   "cell_type": "code",
   "execution_count": 5,
   "id": "a2fb34be",
   "metadata": {},
   "outputs": [],
   "source": [
    "def a_star_search(problem, h):\n",
    "    \"\"\"A* Search: f(n) = g(n) + h(n)\"\"\"\n",
    "    node = Node(state=problem.initial)\n",
    "    frontier = [(h(problem.initial) + node.path_cost, node)]\n",
    "    heapq.heapify(frontier)\n",
    "    reached = {problem.initial: node}\n",
    "\n",
    "    while frontier:\n",
    "        _, node = heapq.heappop(frontier)\n",
    "        if problem.is_goal(node.state):\n",
    "            return node\n",
    "\n",
    "        for child in expand(problem, node):\n",
    "            s = child.state\n",
    "            if s not in reached or child.path_cost < reached[s].path_cost:\n",
    "                reached[s] = child\n",
    "                f_cost = child.path_cost + h(s)\n",
    "                heapq.heappush(frontier, (f_cost, child))\n",
    "    return None"
   ]
  },
  {
   "cell_type": "code",
   "execution_count": 6,
   "id": "aa7a3e41",
   "metadata": {},
   "outputs": [],
   "source": [
    "initial = 'A'\n",
    "goal = 'E'\n",
    "\n",
    "actions_dict = {\n",
    "    'A': ['B', 'C'],\n",
    "    'B': ['A', 'D'],\n",
    "    'C': ['A', 'D'],\n",
    "    'D': ['B', 'C', 'E'],\n",
    "    'E': ['D']\n",
    "}\n",
    "\n",
    "action_costs = {\n",
    "    ('A', 'B'): 1,\n",
    "    ('A', 'C'): 4,\n",
    "    ('B', 'D'): 3,\n",
    "    ('C', 'D'): 2,\n",
    "    ('D', 'E'): 2,\n",
    "    ('B', 'A'): 1,\n",
    "    ('C', 'A'): 4,\n",
    "    ('D', 'B'): 3,\n",
    "    ('D', 'C'): 2,\n",
    "    ('E', 'D'): 2\n",
    "}\n",
    "\n",
    "# Heurística (estimación de distancia a 'E')\n",
    "heuristics = {\n",
    "    'A': 5,\n",
    "    'B': 4,\n",
    "    'C': 2,\n",
    "    'D': 1,\n",
    "    'E': 0\n",
    "}"
   ]
  },
  {
   "cell_type": "code",
   "execution_count": 7,
   "id": "b5858d71",
   "metadata": {},
   "outputs": [
    {
     "name": "stdout",
     "output_type": "stream",
     "text": [
      "Solution path: A → B → D → E\n",
      "Total cost: 6\n"
     ]
    }
   ],
   "source": [
    "def actions(state):\n",
    "    return actions_dict.get(state, [])\n",
    "\n",
    "def result(state, action):\n",
    "    return action\n",
    "\n",
    "def action_cost(state, action, result):\n",
    "    return action_costs.get((state, action), float('inf'))\n",
    "\n",
    "def is_goal(state):\n",
    "    return state == goal\n",
    "\n",
    "def h(state):\n",
    "    return heuristics[state]\n",
    "\n",
    "\n",
    "# Crear problema y ejecutar A*\n",
    "problem = Problem(initial, goal, actions, result, action_cost, is_goal)\n",
    "solution = a_star_search(problem, h)\n",
    "\n",
    "if solution:\n",
    "    path = []\n",
    "    total_cost = solution.path_cost\n",
    "    while solution:\n",
    "        path.append(solution.state)\n",
    "        solution = solution.parent\n",
    "    path.reverse()\n",
    "    print(\"Solution path:\", \" → \".join(path))\n",
    "    print(\"Total cost:\", total_cost)\n",
    "else:\n",
    "    print(\"No solution found\")"
   ]
  }
 ],
 "metadata": {
  "kernelspec": {
   "display_name": "Python 3",
   "language": "python",
   "name": "python3"
  },
  "language_info": {
   "codemirror_mode": {
    "name": "ipython",
    "version": 3
   },
   "file_extension": ".py",
   "mimetype": "text/x-python",
   "name": "python",
   "nbconvert_exporter": "python",
   "pygments_lexer": "ipython3",
   "version": "3.13.1"
  }
 },
 "nbformat": 4,
 "nbformat_minor": 5
}
